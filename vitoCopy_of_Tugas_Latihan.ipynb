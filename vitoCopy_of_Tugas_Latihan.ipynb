{
  "nbformat": 4,
  "nbformat_minor": 0,
  "metadata": {
    "colab": {
      "provenance": [],
      "include_colab_link": true
    },
    "kernelspec": {
      "name": "python3",
      "display_name": "Python 3"
    },
    "language_info": {
      "name": "python"
    }
  },
  "cells": [
    {
      "cell_type": "markdown",
      "metadata": {
        "id": "view-in-github",
        "colab_type": "text"
      },
      "source": [
        "<a href=\"https://colab.research.google.com/github/vitoalfawwaz/belajar-pbo/blob/main/vitoCopy_of_Tugas_Latihan.ipynb\" target=\"_parent\"><img src=\"https://colab.research.google.com/assets/colab-badge.svg\" alt=\"Open In Colab\"/></a>"
      ]
    },
    {
      "cell_type": "markdown",
      "source": [
        "Sebuah start-up GoPay merupakan perusahaan vintage yang menjadi alat pembayaran aplikasi marketplace dan lainnya. Anda seorang programmer yang ditugaskan untuk membuat aplikasi GoPay yang memiliki sebuah class bernama AkunGopay, yang memiliki atribut no_hp, nama dan saldo, dimana semua atribut bersifat private, demi keamanan.\n",
        "\n",
        "\n",
        "Pengguna bisa mendaftar akun GoPay dengan no_hp dan nama saja, namun juga bisa mendaftar dengan no_hp, nama dan saldo. Jika mendaftar dengan no_hp dan nama saja maka saldo otomatis bernilai 0.\n",
        "\n",
        "\n",
        "Class AkunGopay harus menyediakan fungsi yang dapat diakses oleh Marketplace untuk melakukan transaksi, yaitu :\n",
        "\n",
        "1.   topUp(), yang digunakan untuk menambahkan saldo\n",
        "2.   bayarTransaksi(), yang mengurangi saldo ketika melakukan transaksi\n",
        "3.   getSaldo(), untuk mengetahui jumlah saldo\n",
        "\n",
        "\n",
        "\n",
        "Teman Anda adalah seorang programer yang bekerja di sebuah start-up terkemuka Tokopedia yang bekerjasama dengan start-up keuangan GoPay. Anda ditugaskan membuat apikasi yang memiliki class AkunToped, dan memiliki atribut nama dan nomer_hp.\n",
        "\n",
        "Class AkunToped harus menyediakan fungsi yang untuk melakukan transaksi, yaitu:\n",
        "\n",
        "1. transaksi(), yang digunakan untuk mengurangi saldo Gopay dengan paramater nominal transaksi.\n",
        "2. getSaldo(), untuk mengetahui jumlah saldo Gopay.\n",
        "\n"
      ],
      "metadata": {
        "id": "NOQKwrfHB4pv"
      }
    },
    {
      "cell_type": "code",
      "execution_count": 4,
      "metadata": {
        "id": "peDTMz-5kxlh"
      },
      "outputs": [],
      "source": [
        "#Desain Class\n",
        "class AkunGopay:\n",
        "    def __init__(self, no_hp, nama, saldo=0):\n",
        "        self.__no_hp = no_hp\n",
        "        self.__nama = nama\n",
        "        self.__saldo = saldo\n",
        "\n",
        "    def topUp(self, jumlah):\n",
        "        if jumlah > 0:\n",
        "            self.__saldo += jumlah\n",
        "            print(f\"Saldo berhasil ditambahkan. Saldo sekarang: {self.__saldo}\")\n",
        "        else:\n",
        "            print(\"Jumlah top-up harus lebih dari 0.\")\n",
        "\n",
        "    def bayarTransaksi(self, jumlah):\n",
        "        if jumlah > 0 and self.__saldo >= jumlah:\n",
        "            self.__saldo -= jumlah\n",
        "            print(f\"Transaksi berhasil. Saldo sekarang: {self.__saldo}\")\n",
        "        else:\n",
        "            print(\"Saldo tidak mencukupi atau jumlah transaksi tidak valid.\")\n",
        "\n",
        "    def getSaldo(self):\n",
        "        return self.__saldo\n",
        "\n",
        "class AkunToped:\n",
        "    def __init__(self, nama, nomer_hp):\n",
        "        self.__nama = nama\n",
        "        self.__nomer_hp = nomer_hp\n",
        "\n",
        "    def transaksi(self, akun_gopay, jumlah):\n",
        "        if jumlah > 0:\n",
        "            akun_gopay.bayarTransaksi(jumlah)\n",
        "        else:\n",
        "            print(\"Jumlah transaksi harus lebih dari 0.\")\n",
        "\n",
        "    def getSaldo(self, akun_gopay):\n",
        "        return akun_gopay.getSaldo()"
      ]
    },
    {
      "cell_type": "code",
      "source": [
        "#Main Program\n",
        "akun_gopay = AkunGopay(\"081280466805\", \"Vito Al Fawwaz\")\n",
        "print(\"Saldo Awal:\", akun_gopay.getSaldo())\n",
        "\n",
        "akun_gopay.topUp(1000000)\n",
        "print(\"Saldo setelah top-up:\", akun_gopay.getSaldo())\n",
        "\n",
        "akun_toped = AkunToped(\"Khansa Hardi\", \"088741007703\")\n",
        "akun_toped.transaksi(akun_gopay, 30000)\n",
        "print(\"Saldo setelah transaksi:\", akun_gopay.getSaldo())"
      ],
      "metadata": {
        "id": "eitzekkYkycQ",
        "colab": {
          "base_uri": "https://localhost:8080/"
        },
        "outputId": "b75de95a-013f-4b7e-fb8a-5682aa8b847b"
      },
      "execution_count": 6,
      "outputs": [
        {
          "output_type": "stream",
          "name": "stdout",
          "text": [
            "Saldo Awal: 0\n",
            "Saldo berhasil ditambahkan. Saldo sekarang: 1000000\n",
            "Saldo setelah top-up: 1000000\n",
            "Transaksi berhasil. Saldo sekarang: 970000\n",
            "Saldo setelah transaksi: 970000\n"
          ]
        }
      ]
    }
  ]
}