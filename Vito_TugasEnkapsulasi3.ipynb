{
  "nbformat": 4,
  "nbformat_minor": 0,
  "metadata": {
    "colab": {
      "provenance": [],
      "include_colab_link": true
    },
    "kernelspec": {
      "name": "python3",
      "display_name": "Python 3"
    },
    "language_info": {
      "name": "python"
    }
  },
  "cells": [
    {
      "cell_type": "markdown",
      "metadata": {
        "id": "view-in-github",
        "colab_type": "text"
      },
      "source": [
        "<a href=\"https://colab.research.google.com/github/vitoalfawwaz/belajar-pbo/blob/main/Vito_TugasEnkapsulasi3.ipynb\" target=\"_parent\"><img src=\"https://colab.research.google.com/assets/colab-badge.svg\" alt=\"Open In Colab\"/></a>"
      ]
    },
    {
      "cell_type": "markdown",
      "source": [
        "Buatlah kelas RekeningBank dengan atribut berikut:\n",
        "\n",
        "*   nama_pemilik (private)\n",
        "*   saldo (private)\n",
        "\n",
        "Berikan metode berikut:\n",
        "\n",
        "*   __init__: Menginisialisasi saldo dan nama_pemilik.\n",
        "*   set_saldo: Mengubah nilai saldo.\n",
        "*   get_saldo: Mengembalikan nilai saldo.\n",
        "*   set_nama_pemilik: Mengubah nama pemilik.\n",
        "*   get_nama_pemilik: Mengembalikan nama pemilik.\n",
        "\n",
        "\n",
        "\n",
        "\n",
        "\n",
        "\n",
        "\n",
        "\n"
      ],
      "metadata": {
        "id": "PktiI90eS6Ee"
      }
    },
    {
      "cell_type": "code",
      "source": [
        "# Desain class\n",
        "class RekeningBank:\n",
        "  def __init__(self, nama_pemilik, saldo):\n",
        "    self.__saldo = saldo\n",
        "    self.__nama_pemilik = nama_pemilik\n",
        "\n",
        "  def set_saldo(self, saldo):\n",
        "    self.__saldo = saldo\n",
        "\n",
        "  def get_saldo(self):\n",
        "    return self.__saldo\n",
        "\n",
        "  def set_nama_pemilik(self, nama_pemilik):\n",
        "    self.__nama_pemilik = nama_pemilik\n",
        "\n",
        "  def get_nama_pemilik(self):\n",
        "    return self.__nama_pemilik\n",
        "\n",
        "  def setor(self, jumlah):\n",
        "    if jumlah > 0:\n",
        "      self.__saldo += jumlah\n",
        "      print(\"Setoran Berhasil. Saldo sekarang:\", self.__saldo)\n",
        "\n",
        "    else:\n",
        "      print(\"Jumlah Setoran Harus Lebih Dari 0\")\n",
        "\n",
        "  def tarik(self, jumlah):\n",
        "    if jumlah > 0 and jumlah <= self.__saldo:\n",
        "      self.__saldo -= jumlah\n",
        "      print(\"Penarikan Berhasil. Saldo Sekarang:\", self.__saldo)\n",
        "\n",
        "    else:\n",
        "      print(\"Jumlah Penarikan Tidak Valid Atau Saldo Tidak Mencukupi\")"
      ],
      "metadata": {
        "id": "Pyj-mkyciVfk"
      },
      "execution_count": 2,
      "outputs": []
    },
    {
      "cell_type": "code",
      "source": [
        "#Program utama untuk mendemonstrasikan class RekeningBank\n",
        "#yang menunjukkan penggunaan semua fungsi yang ada\n",
        "rekening1 = RekeningBank(\"Khansa\", 10000000)\n",
        "\n",
        "print(\"Nama Pemilik: \", rekening1.get_nama_pemilik())\n",
        "print(\"Saldo: \", rekening1.get_saldo())\n",
        "\n",
        "rekening1.set_nama_pemilik(\"vito al fawwaz\")\n",
        "rekening1.set_saldo(15000000)\n",
        "\n",
        "print(\"\\nNama Pemilik setelah diubah: \", rekening1.get_nama_pemilik())\n",
        "print(\"Saldo setelah diubah: \", rekening1.get_saldo())"
      ],
      "metadata": {
        "id": "aOwy6rfdSga2",
        "colab": {
          "base_uri": "https://localhost:8080/"
        },
        "outputId": "349da169-f8be-499b-f7e7-934facf569c7"
      },
      "execution_count": 3,
      "outputs": [
        {
          "output_type": "stream",
          "name": "stdout",
          "text": [
            "Nama Pemilik:  Khansa\n",
            "Saldo:  10000000\n",
            "\n",
            "Nama Pemilik setelah diubah:  vito al fawwaz\n",
            "Saldo setelah diubah:  15000000\n"
          ]
        }
      ]
    },
    {
      "cell_type": "code",
      "source": [
        "#Demo Programnya\n",
        "rekening2 = RekeningBank(\"vito al fawwaz\", 10000000)\n",
        "\n",
        "#Menampilkan Informasi Awal Rekening\n",
        "print(\"Informasi Awal Rekening:\")\n",
        "print(\"Nama Pemilik:\", rekening2.get_nama_pemilik())\n",
        "print(\"Saldo:\", rekening2.get_saldo())\n",
        "\n",
        "#Melakukan Setor Dan Penarikan\n",
        "rekening2.setor(5000000)\n",
        "rekening2.tarik(2000000)\n",
        "rekening2.tarik(20000000)  # Penarikan lebih dari saldo\n",
        "\n",
        "#Menampilkan Informasi Akhir Rekening\n",
        "print(\"\\nInformasi Akhir Rekening:\")\n",
        "print(\"Nama Pemilik:\", rekening2.get_nama_pemilik())\n",
        "print(\"Saldo:\", rekening2.get_saldo())"
      ],
      "metadata": {
        "colab": {
          "base_uri": "https://localhost:8080/"
        },
        "id": "8gFrss6SzqO1",
        "outputId": "a5d87b60-9567-4864-9c47-5c15c6badf58"
      },
      "execution_count": 4,
      "outputs": [
        {
          "output_type": "stream",
          "name": "stdout",
          "text": [
            "Informasi Awal Rekening:\n",
            "Nama Pemilik: vito al fawwaz\n",
            "Saldo: 10000000\n",
            "Setoran Berhasil. Saldo sekarang: 15000000\n",
            "Penarikan Berhasil. Saldo Sekarang: 13000000\n",
            "Jumlah Penarikan Tidak Valid Atau Saldo Tidak Mencukupi\n",
            "\n",
            "Informasi Akhir Rekening:\n",
            "Nama Pemilik: vito al fawwaz\n",
            "Saldo: 13000000\n"
          ]
        }
      ]
    }
  ]
}