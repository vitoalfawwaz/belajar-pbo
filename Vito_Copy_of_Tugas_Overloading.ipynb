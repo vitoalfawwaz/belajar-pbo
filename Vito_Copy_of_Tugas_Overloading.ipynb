{
  "nbformat": 4,
  "nbformat_minor": 0,
  "metadata": {
    "colab": {
      "provenance": [],
      "include_colab_link": true
    },
    "kernelspec": {
      "name": "python3",
      "display_name": "Python 3"
    },
    "language_info": {
      "name": "python"
    }
  },
  "cells": [
    {
      "cell_type": "markdown",
      "metadata": {
        "id": "view-in-github",
        "colab_type": "text"
      },
      "source": [
        "<a href=\"https://colab.research.google.com/github/vitoalfawwaz/belajar-pbo/blob/main/Vito_Copy_of_Tugas_Overloading.ipynb\" target=\"_parent\"><img src=\"https://colab.research.google.com/assets/colab-badge.svg\" alt=\"Open In Colab\"/></a>"
      ]
    },
    {
      "cell_type": "code",
      "execution_count": null,
      "metadata": {
        "id": "cytAUNWzM1-6"
      },
      "outputs": [],
      "source": [
        "#Buat Perkalian yang memiliki Sebuah fungsi dangan nama Hitung\n",
        "class Perkalian:\n",
        "  def hitung(self, a, b):\n",
        "    p = a * b\n",
        "    print(p)\n",
        "#method hasil() dengan variasi parameter\n",
        "  def hitung(self, *args):\n",
        "        jumlah = 1\n",
        "        for angka in args:\n",
        "            jumlah *= angka\n",
        "        print(jumlah)"
      ]
    },
    {
      "cell_type": "code",
      "source": [
        "#Buat main program\n",
        "hitung = Perkalian()\n",
        "#Panggil fungsi Hitung untuk menghitung 2 parameter\n",
        "Perkalian.hitung(1, 2)\n",
        "#Panggil fungsi Hitung untuk menghitung 3 parameter\n",
        "Perkalian.hitung(1, 2, 3)\n",
        "#Panggil fungsi Hitung untuk menghitung 4 parameter\n",
        "Perkalian.hitung(1, 2, 3, 4)"
      ],
      "metadata": {
        "id": "W9hN-kX7PDUI"
      },
      "execution_count": null,
      "outputs": []
    }
  ]
}