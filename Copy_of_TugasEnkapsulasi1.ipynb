{
  "nbformat": 4,
  "nbformat_minor": 0,
  "metadata": {
    "colab": {
      "provenance": [],
      "include_colab_link": true
    },
    "kernelspec": {
      "name": "python3",
      "display_name": "Python 3"
    },
    "language_info": {
      "name": "python"
    }
  },
  "cells": [
    {
      "cell_type": "markdown",
      "metadata": {
        "id": "view-in-github",
        "colab_type": "text"
      },
      "source": [
        "<a href=\"https://colab.research.google.com/github/vitoalfawwaz/belajar-pbo/blob/main/Copy_of_TugasEnkapsulasi1.ipynb\" target=\"_parent\"><img src=\"https://colab.research.google.com/assets/colab-badge.svg\" alt=\"Open In Colab\"/></a>"
      ]
    },
    {
      "cell_type": "code",
      "execution_count": 4,
      "metadata": {
        "id": "ihePdlIsSR5E"
      },
      "outputs": [],
      "source": [
        "class Karyawan:\n",
        "  def __init__(self, nama, gaji):\n",
        "    #Deklarasi dan inisialisai variabel privat untuk nama\n",
        "    self.__nama = nama\n",
        "    #Deklarasi dan inisialisai variabel privat untuk gaji\n",
        "    self.__gaji = gaji\n",
        "  # Fungsi untuk mengakses nama\n",
        "  def get_nama(self):\n",
        "    #lengkapi\n",
        "    return self.__nama\n",
        "  # Fungsi untuk mengubah nama\n",
        "  def set_nama(self, nama):\n",
        "    #lengkapi\n",
        "    self.__nama = nama\n",
        "  # Fungsi untuk mengakses gaji\n",
        "  def get_gaji(self):\n",
        "    #lengkapi\n",
        "    return self.__gaji\n",
        "  # Fungsi untuk mengubah gaji\n",
        "  def set_gaji(self, gaji):\n",
        "    self.__gaji = gaji"
      ]
    },
    {
      "cell_type": "code",
      "source": [
        "# Membuat objek Karyawan dengan nama Ahmad dengan gaji 4000000\n",
        "karyawan1 = Karyawan(\"Ahmad\", 4000000)\n",
        "\n",
        "# Mengakses/menampilkan nama dan gaji menggunakan fungsi\n",
        "print(\"nama karyawan:\", karyawan1.get_nama())\n",
        "print(\"gaji karyawan:\", karyawan1.get_gaji())\n",
        "# Mengubah nama menjadi nama anda masing-masing dan gaji bebas menggunakan fungsi\n",
        "karyawan1 = Karyawan(\"Vito\", 2500000)\n",
        "\n",
        "# Mengakses/menampilkan nama dan gaji setelah diubah\n",
        "print(\"setelah diubah nama karyawan:\", karyawan1.get_nama())\n",
        "print(\"setelah diubah gaji karyawan:\", karyawan1.get_gaji())"
      ],
      "metadata": {
        "id": "aOwy6rfdSga2",
        "colab": {
          "base_uri": "https://localhost:8080/"
        },
        "outputId": "d114aa13-c6ca-4450-cc33-205e94453af9"
      },
      "execution_count": 7,
      "outputs": [
        {
          "output_type": "stream",
          "name": "stdout",
          "text": [
            "nama karyawan: Ahmad\n",
            "gaji karyawan: 4000000\n",
            "setelah diubah nama karyawan: Vito\n",
            "setelah diubah gaji karyawan: 2500000\n"
          ]
        }
      ]
    }
  ]
}