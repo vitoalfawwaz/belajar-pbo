{
  "nbformat": 4,
  "nbformat_minor": 0,
  "metadata": {
    "colab": {
      "provenance": [],
      "include_colab_link": true
    },
    "kernelspec": {
      "name": "python3",
      "display_name": "Python 3"
    },
    "language_info": {
      "name": "python"
    }
  },
  "cells": [
    {
      "cell_type": "markdown",
      "metadata": {
        "id": "view-in-github",
        "colab_type": "text"
      },
      "source": [
        "<a href=\"https://colab.research.google.com/github/vitoalfawwaz/belajar-pbo/blob/main/Vito_Copy_of_Tugas_Overloading_2.ipynb\" target=\"_parent\"><img src=\"https://colab.research.google.com/assets/colab-badge.svg\" alt=\"Open In Colab\"/></a>"
      ]
    },
    {
      "cell_type": "code",
      "execution_count": 11,
      "metadata": {
        "id": "5zCytCeM1uD4"
      },
      "outputs": [],
      "source": [
        "#class Nama\n",
        "class nama :\n",
        "  def nama_lengkap(self, *args):\n",
        "        jumlah = \"\"\n",
        "        for angka in args:\n",
        "            jumlah += angka\n",
        "        print(jumlah)\n",
        ""
      ]
    },
    {
      "cell_type": "code",
      "source": [
        "#Buat main program\n",
        "nama_lengkap = nama()\n",
        "#Panggil fungsi untuk membuat nama lengkap 4 nama teman kalian\n",
        "nama_lengkap.nama_lengkap(\"Muhammad \", \"Lionel \", \"Ilhamsyah\")\n",
        "nama_lengkap.nama_lengkap(\"Angga \", \"Samusi \", \"Sholehah\")\n",
        "nama_lengkap.nama_lengkap(\"Chaidar \", \"Tahlil \",)\n",
        "nama_lengkap.nama_lengkap(\"Vito \", \"AlFawwaz \",\"Putra \",\"Riandy\")"
      ],
      "metadata": {
        "id": "liQBcJWZ12MN",
        "colab": {
          "base_uri": "https://localhost:8080/"
        },
        "outputId": "5b3b6382-d0d2-4891-ae05-7a8d31ff26bd"
      },
      "execution_count": 23,
      "outputs": [
        {
          "output_type": "stream",
          "name": "stdout",
          "text": [
            "Muhammad Lionel Ilhamsyah\n",
            "Angga Samusi Sholehah\n",
            "Chaidar Tahlil \n",
            "Vito AlFawwaz Putra Riandy\n"
          ]
        }
      ]
    },
    {
      "cell_type": "code",
      "source": [
        "Tulisakan kesimpulan dari materi Overloading menurut pemahaman anda!\n",
        "#Overload memiliki nama method yang sama namun berbeda parameter (perintah yang dijalankan bisa jadi sama maupun tidak antara satu dengan yang lainnya)"
      ],
      "metadata": {
        "id": "xwFmppIG3JGE"
      },
      "execution_count": null,
      "outputs": []
    }
  ]
}