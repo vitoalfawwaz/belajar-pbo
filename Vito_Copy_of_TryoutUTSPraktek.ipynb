{
  "nbformat": 4,
  "nbformat_minor": 0,
  "metadata": {
    "colab": {
      "provenance": [],
      "include_colab_link": true
    },
    "kernelspec": {
      "name": "python3",
      "display_name": "Python 3"
    },
    "language_info": {
      "name": "python"
    }
  },
  "cells": [
    {
      "cell_type": "markdown",
      "metadata": {
        "id": "view-in-github",
        "colab_type": "text"
      },
      "source": [
        "<a href=\"https://colab.research.google.com/github/vitoalfawwaz/belajar-pbo/blob/main/Vito_Copy_of_TryoutUTSPraktek.ipynb\" target=\"_parent\"><img src=\"https://colab.research.google.com/assets/colab-badge.svg\" alt=\"Open In Colab\"/></a>"
      ]
    },
    {
      "cell_type": "markdown",
      "source": [
        "Anda adalah seorang ilmuwan lingkungan yang bekerja dalam penelitian organisme di berbagai ekosistem. Anda memiliki kelas dasar Organisme dengan atribut berikut:\n",
        "\n",
        "*   nama (nama organisme)\n",
        "*   jenis (jenis organisme, misalnya, tumbuhan, hewan, mikroba, dll.)\n",
        "\n",
        "Selain itu, Anda memiliki dua jenis organisme spesifik: **Tumbuhan** dan **Hewan**.\n",
        "\n",
        "Tumbuhan memiliki atribut tambahan yaitu lokasi (lokasi tumbuhan ditemukan, misalnya, hutan, sungai, dll.)\n",
        "\n",
        "Sementara Hewan memiliki atribut tambahan yaitu makanan (jenis makanan yang dikonsumsi hewan, misalnya, herbivora, karnivora, omnivora, dll.)\n",
        "\n",
        "\n",
        "Anda ditugaskan membuat program Python yang memungkinkan Anda untuk mencetak informasi tentang setiap organisme, termasuk nama, jenis, serta atribut tambahan yang sesuai (lokasi atau jenis makanan)."
      ],
      "metadata": {
        "id": "Xcnm52jtL9YY"
      }
    },
    {
      "cell_type": "code",
      "execution_count": 16,
      "metadata": {
        "id": "9pLv2WhSLUZc"
      },
      "outputs": [],
      "source": [
        "class Organisme:\n",
        "#Buat class Organisme disini\n",
        "  def __init__(self, nama, jenis):\n",
        "    self.nama = nama\n",
        "    self.jenis = jenis\n",
        "  def informasi(self):\n",
        "    print(f\"nama: {self.nama}\")\n",
        "    print(f\"jenis: {self.jenis}\")"
      ]
    },
    {
      "cell_type": "code",
      "source": [
        "class Tumbuhan(Organisme):\n",
        "#Buat class Tumbuhan disini\n",
        "   def __init__(self, nama, jenis, lokasi):\n",
        "    super().__init__(nama, jenis)\n",
        "    self.lokasi = lokasi\n",
        "   def informasi(self):\n",
        "     super().informasi()\n",
        "     print(f\"lokasi: {self.lokasi}\")"
      ],
      "metadata": {
        "id": "aZ-2FjdaObMu"
      },
      "execution_count": 17,
      "outputs": []
    },
    {
      "cell_type": "code",
      "source": [
        "class Hewan(Organisme):\n",
        "#Buat class Hewan disini\n",
        "  def __init__(self, nama, jenis, makanan):\n",
        "    super().__init__(nama, jenis)\n",
        "    self.makanan = makanan\n",
        "  def informasi(self):\n",
        "     super().informasi()\n",
        "     print(f\"makanan: {self.makanan}\")"
      ],
      "metadata": {
        "id": "ItwqUUUjOdp4"
      },
      "execution_count": 18,
      "outputs": []
    },
    {
      "cell_type": "code",
      "source": [
        "# Nama Lengkap : Vito Al Fawwaz Putra Riandy\n",
        "# Kelas : XI RPL 2\n",
        "OrganismeTumbuhan = Tumbuhan (\"Melati\", \"Tumbuhan\", \"Hutan\")\n",
        "OrganismeHewan = Hewan (\"Kelinci\", \"Hewan\", \"Herbivora\")\n",
        "print(\"Informasi Organisme1:\")\n",
        "OrganismeTumbuhan.informasi()\n",
        "print(\"Informasi Organisme2:\")\n",
        "OrganismeHewan.informasi()"
      ],
      "metadata": {
        "id": "gWi4_l0gOe-8",
        "colab": {
          "base_uri": "https://localhost:8080/"
        },
        "outputId": "8ba40081-4d49-4e84-88de-b2d79b2f0bda"
      },
      "execution_count": 23,
      "outputs": [
        {
          "output_type": "stream",
          "name": "stdout",
          "text": [
            "Informasi Organisme1:\n",
            "nama: Melati\n",
            "jenis: Tumbuhan\n",
            "lokasi: Hutan\n",
            "Informasi Organisme2:\n",
            "nama: Kelinci\n",
            "jenis: Hewan\n",
            "makanan: Herbivora\n"
          ]
        }
      ]
    },
    {
      "cell_type": "markdown",
      "source": [
        "# Penjelasan:\n",
        "\n",
        "Class Organisme adalah kelas induk dengan atribut **nama** dan **jenis**. Fungsi **informasi** dalam kelas ini mencetak informasi umum tentang organisme.\n",
        "\n",
        "Class **Tumbuhan** adalah turunan dari class Organisme dan memiliki atribut tambahan **lokasi**. Fungsi **informasi** dalam class ini memanggil fungsi **informasi** dari class dasar (super().informasi()) dan mencetak informasi tambahan tentang tumbuhan, yaitu **lokasi**.\n",
        "\n",
        "Class **Hewan** juga mewarisi dari class **Organisme** dan memiliki atribut tumbuhan **makanan**. Fungsi **informasi** dalam class ini juga memanggil fungsi **informasi** dari  class dasar (super().informasi()) dan mencetak informasi tambahan tentang hewan, yaitu **Makanan**"
      ],
      "metadata": {
        "id": "2xAfWE4hMnGD"
      }
    }
  ]
}